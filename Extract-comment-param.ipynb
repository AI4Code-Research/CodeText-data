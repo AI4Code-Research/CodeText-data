{
 "cells": [
  {
   "cell_type": "code",
   "execution_count": 2,
   "metadata": {},
   "outputs": [],
   "source": [
    "import re\n",
    "from lizard import analyze_file"
   ]
  },
  {
   "cell_type": "code",
   "execution_count": 91,
   "metadata": {},
   "outputs": [],
   "source": [
    "code = \"public <U> boolean accept(Subscriber<? super U> subscriber) {\\n        Object[] a = head;\\n        final int c = capacity;\\n        while (a != null) {\\n            for (int i = 0; i < c; i++) {\\n                Object o = a[i];\\n                if (o == null) {\\n                    break;\\n                }\\n\\n                if (NotificationLite.acceptFull(o, subscriber)) {\\n                    return true;\\n                }\\n            }\\n            a = (Object[])a[c];\\n        }\\n        return false;\\n    }\""
   ]
  },
  {
   "cell_type": "code",
   "execution_count": 111,
   "metadata": {},
   "outputs": [],
   "source": [
    "code = \"<?php\\npublic function show($table)\\n    {\\n        $this->authorize('browse_database');\\n\\n        $additional_attributes = [];\\n        $model_name = Voyager::model('DataType')->where('name', $table)->pluck('model_name')->first();\\n        if (isset($model_name)) {\\n            $model = app($model_name);\\n            if (isset($model->additional_attributes)) {\\n                foreach ($model->additional_attributes as $attribute) {\\n                    $additional_attributes[$attribute] = [];\\n                }\\n            }\\n        }\\n\\n        return response()->json(collect(SchemaManager::describeTable($table))->merge($additional_attributes));\\n    }\\n?>\""
   ]
  },
  {
   "cell_type": "code",
   "execution_count": 113,
   "metadata": {},
   "outputs": [],
   "source": [
    "i = analyze_file.analyze_source_code(filename='abc.php', code=code)"
   ]
  },
  {
   "cell_type": "code",
   "execution_count": 114,
   "metadata": {},
   "outputs": [
    {
     "data": {
      "text/plain": [
       "{'filename': 'abc.php',\n",
       " 'nloc': 15,\n",
       " 'function_list': [<lizard.FunctionInfo at 0x7f459c553730>],\n",
       " 'token_count': 113}"
      ]
     },
     "execution_count": 114,
     "metadata": {},
     "output_type": "execute_result"
    }
   ],
   "source": [
    "i.__dict__"
   ]
  },
  {
   "cell_type": "code",
   "execution_count": 115,
   "metadata": {},
   "outputs": [
    {
     "name": "stdout",
     "output_type": "stream",
     "text": [
      "show ( $table )\n"
     ]
    }
   ],
   "source": [
    "for func in i.function_list:\n",
    "    print(func.long_name)"
   ]
  },
  {
   "cell_type": "code",
   "execution_count": 38,
   "metadata": {},
   "outputs": [
    {
     "name": "stdout",
     "output_type": "stream",
     "text": [
      "{'processed_docstring': 'Interprets the contents as NotificationLite objects and calls\\nthe appropriate Subscriber method.\\n\\n', 'docstring_params': {'subscriber': 'the subscriber to emit the events to\\n', '<U>': 'the target type\\n', '@return': 'true if a terminal event has been reached'}}\n"
     ]
    }
   ],
   "source": [
    "def extract_function_params(function_code, comment, file_name,):\n",
    "    metadata = {}\n",
    "    report = analyze_file.analyze_source_code(file_name, function_code)\n",
    "    # print(function_code)\n",
    "    \n",
    "    params = report.function_list[0].full_parameters\n",
    "    # print(params)\n",
    "    params_dict = {}\n",
    "    # params_name = [str(x).split(' ')[1] for x in params] \n",
    "    for each in params:\n",
    "        line = str(each).split(' ')\n",
    "        params_dict[line[-1]] = {'type': line[0]}\n",
    "        params_dict[line[-1]] = {'comment': False}\n",
    "        \n",
    "    # print(params)\n",
    "        \n",
    "    preprocessed = re.split(r\"(@+[\\w]*)\", comment)\n",
    "\n",
    "    splited_comment = []\n",
    "    line = \"\"\n",
    "    for sub_str in preprocessed:\n",
    "        if re.search(r\"(@+[\\w]*)\", sub_str):\n",
    "            splited_comment.append(line)\n",
    "            line = re.search(r\"(@+[\\w]*)\", sub_str).group()\n",
    "        else: \n",
    "            line += sub_str\n",
    "    splited_comment.append(line)\n",
    "    \n",
    "    # print(splited_comment)\n",
    "    \n",
    "    for line in splited_comment:\n",
    "        if re.search(r\"(@+[\\w]*)\", line):\n",
    "            break_line = line.split(' ')\n",
    "            # print(break_line[0])\n",
    "            if break_line[0] == '@param':\n",
    "                params_dict[break_line[1]] = ' '.join(break_line[2:])\n",
    "\n",
    "            else:\n",
    "                params_dict[break_line[0]] = ' '.join(break_line[1:])\n",
    "        else:\n",
    "            metadata['processed_docstring'] = line\n",
    "    \n",
    "    metadata['docstring_params'] = params_dict\n",
    "    return metadata\n",
    "            \n",
    "# print(code)\n",
    "a_dict = extract_function_params(code, comment, 'AppendOnlyLinkedArrayList.java')\n",
    "print(a_dict)"
   ]
  },
  {
   "cell_type": "code",
   "execution_count": 40,
   "metadata": {},
   "outputs": [],
   "source": [
    "DOCSTRING_REGEX_TOKENIZER = re.compile(r\"[^\\s,'\\\"`.():\\[\\]=*;>{\\}+-/\\\\]+|\\\\+|\\.+|\\(\\)|{\\}|\\[\\]|\\(+|\\)+|:+|\\[+|\\]+|{+|\\}+|=+|\\*+|;+|>+|\\++|-+|/+\")\n",
    "\n",
    "\n",
    "def tokenize_docstring(docstring: str):\n",
    "    return [t for t in DOCSTRING_REGEX_TOKENIZER.findall(docstring) if t is not None and len(t) > 0]"
   ]
  },
  {
   "cell_type": "code",
   "execution_count": 41,
   "metadata": {},
   "outputs": [
    {
     "name": "stdout",
     "output_type": "stream",
     "text": [
      "['Interprets', 'the', 'contents', 'as', 'NotificationLite', 'objects', 'and', 'calls', 'the', 'appropriate', 'Subscriber', 'method', '.']\n"
     ]
    }
   ],
   "source": [
    "print(tokenize_docstring(a_dict['processed_docstring']))"
   ]
  },
  {
   "cell_type": "code",
   "execution_count": 48,
   "metadata": {},
   "outputs": [
    {
     "data": {
      "text/plain": [
       "{'processed_docstring': 'Interprets the contents as NotificationLite objects and calls\\nthe appropriate Subscriber method.\\n\\n',\n",
       " 'docstring_params': {'subscriber': 'the subscriber to emit the events to\\n',\n",
       "  '<U>': 'the target type\\n',\n",
       "  '@return': 'true if a terminal event has been reached'}}"
      ]
     },
     "execution_count": 48,
     "metadata": {},
     "output_type": "execute_result"
    }
   ],
   "source": [
    "a_dict"
   ]
  },
  {
   "cell_type": "code",
   "execution_count": 125,
   "metadata": {},
   "outputs": [],
   "source": [
    "preprocessed = re.findall(r\"@+[\\w]*\", comment)"
   ]
  },
  {
   "cell_type": "code",
   "execution_count": 126,
   "metadata": {},
   "outputs": [
    {
     "data": {
      "text/plain": [
       "['@param', '@param', '@return']"
      ]
     },
     "execution_count": 126,
     "metadata": {},
     "output_type": "execute_result"
    }
   ],
   "source": [
    "preprocessed"
   ]
  },
  {
   "cell_type": "code",
   "execution_count": 49,
   "metadata": {},
   "outputs": [],
   "source": [
    "java_param_docstring = [\n",
    "    '@author',\n",
    "    '@code',\n",
    "    '@exception',\n",
    "    '@return',\n",
    "    '@see',\n",
    "    '@throws',\n",
    "    '@value',\n",
    "    '@version',\n",
    "    '@param',\n",
    "]"
   ]
  },
  {
   "cell_type": "code",
   "execution_count": 50,
   "metadata": {},
   "outputs": [
    {
     "data": {
      "text/plain": [
       "['@exception', '@return', '@see', '@throws', '@value', '@version', '@param']"
      ]
     },
     "execution_count": 50,
     "metadata": {},
     "output_type": "execute_result"
    }
   ],
   "source": [
    "java_param_docstring[2:]"
   ]
  },
  {
   "cell_type": "code",
   "execution_count": 69,
   "metadata": {},
   "outputs": [],
   "source": [
    "code = \"function getCounts(langs = []) {\\n    return {\\n        langs: langs.length,\\n        modelLangs: langs.filter(({ models }) => models && !!models.length).length,\\n        models: langs.map(({ models }) => (models ? models.length : 0)).reduce((a, b) => a + b, 0),\\n    }\\n}\""
   ]
  },
  {
   "cell_type": "code",
   "execution_count": null,
   "metadata": {},
   "outputs": [],
   "source": []
  }
 ],
 "metadata": {
  "kernelspec": {
   "display_name": "Python 3.10.4 ('collect')",
   "language": "python",
   "name": "python3"
  },
  "language_info": {
   "codemirror_mode": {
    "name": "ipython",
    "version": 3
   },
   "file_extension": ".py",
   "mimetype": "text/x-python",
   "name": "python",
   "nbconvert_exporter": "python",
   "pygments_lexer": "ipython3",
   "version": "3.10.4"
  },
  "orig_nbformat": 4,
  "vscode": {
   "interpreter": {
    "hash": "a15f9f1456bdaf209cb46fdc60df17b1260aff6d0f9f953b1e44668e81bcbff7"
   }
  }
 },
 "nbformat": 4,
 "nbformat_minor": 2
}
